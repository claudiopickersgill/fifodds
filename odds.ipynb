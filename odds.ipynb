{
 "cells": [
  {
   "cell_type": "code",
   "execution_count": 74,
   "metadata": {},
   "outputs": [],
   "source": [
    "import pandas as pd"
   ]
  },
  {
   "cell_type": "code",
   "execution_count": 132,
   "metadata": {},
   "outputs": [],
   "source": [
    "df = pd.read_csv('Jogos.csv')"
   ]
  },
  {
   "cell_type": "code",
   "execution_count": 157,
   "metadata": {},
   "outputs": [],
   "source": [
    "odd = 7.8\n",
    "lucro = 100"
   ]
  },
  {
   "cell_type": "code",
   "execution_count": 158,
   "metadata": {},
   "outputs": [
    {
     "name": "stdout",
     "output_type": "stream",
     "text": [
      "Pra ter um lucro de: 100\n",
      "Precisa apostar: 680\n"
     ]
    }
   ],
   "source": [
    "responsabilidade = (odd - 1) * lucro\n",
    "print(\"Pra ter um lucro de:\", lucro)\n",
    "print(\"Precisa apostar:\",round(responsabilidade))"
   ]
  },
  {
   "cell_type": "code",
   "execution_count": 159,
   "metadata": {},
   "outputs": [
    {
     "name": "stdout",
     "output_type": "stream",
     "text": [
      "Vai ter uma porcentagem de retorno de: 14.705882352941176 %\n"
     ]
    }
   ],
   "source": [
    "porcentagem = (lucro * 100) / responsabilidade\n",
    "print(f\"Vai ter uma porcentagem de retorno de: {porcentagem} %\")"
   ]
  },
  {
   "cell_type": "markdown",
   "metadata": {},
   "source": [
    "### Odds se fosse na Bet365"
   ]
  },
  {
   "cell_type": "code",
   "execution_count": 160,
   "metadata": {},
   "outputs": [
    {
     "name": "stdout",
     "output_type": "stream",
     "text": [
      "Na Bet365 terias uma odd de: 1.1470588235294117\n"
     ]
    }
   ],
   "source": [
    "odd_equivalente = (lucro + responsabilidade)/responsabilidade\n",
    "print(\"Na Bet365 terias uma odd de:\", odd_equivalente)"
   ]
  },
  {
   "cell_type": "markdown",
   "metadata": {},
   "source": [
    "________________"
   ]
  },
  {
   "cell_type": "code",
   "execution_count": 161,
   "metadata": {},
   "outputs": [],
   "source": [
    "nova_linha = {'odd': [odd],\n",
    "              'responsabilidade': [responsabilidade],\n",
    "              'lucro': [lucro],\n",
    "              'porcentagem': [porcentagem],\n",
    "              'odd_equivalente': [odd_equivalente],\n",
    "              'green': [True]}\n",
    "df_novo = pd.DataFrame(nova_linha)\n",
    "df = pd.concat([df, df_novo], ignore_index=True)"
   ]
  },
  {
   "cell_type": "code",
   "execution_count": 162,
   "metadata": {},
   "outputs": [
    {
     "data": {
      "text/html": [
       "<div>\n",
       "<style scoped>\n",
       "    .dataframe tbody tr th:only-of-type {\n",
       "        vertical-align: middle;\n",
       "    }\n",
       "\n",
       "    .dataframe tbody tr th {\n",
       "        vertical-align: top;\n",
       "    }\n",
       "\n",
       "    .dataframe thead th {\n",
       "        text-align: right;\n",
       "    }\n",
       "</style>\n",
       "<table border=\"1\" class=\"dataframe\">\n",
       "  <thead>\n",
       "    <tr style=\"text-align: right;\">\n",
       "      <th></th>\n",
       "      <th>odd</th>\n",
       "      <th>responsabilidade</th>\n",
       "      <th>lucro</th>\n",
       "      <th>porcentagem</th>\n",
       "      <th>odd_equivalente</th>\n",
       "      <th>green</th>\n",
       "    </tr>\n",
       "  </thead>\n",
       "  <tbody>\n",
       "    <tr>\n",
       "      <th>0</th>\n",
       "      <td>1.6</td>\n",
       "      <td>60.0</td>\n",
       "      <td>100</td>\n",
       "      <td>166.666667</td>\n",
       "      <td>2.666667</td>\n",
       "      <td>True</td>\n",
       "    </tr>\n",
       "    <tr>\n",
       "      <th>1</th>\n",
       "      <td>38.0</td>\n",
       "      <td>3700.0</td>\n",
       "      <td>100</td>\n",
       "      <td>2.702703</td>\n",
       "      <td>1.027027</td>\n",
       "      <td>True</td>\n",
       "    </tr>\n",
       "    <tr>\n",
       "      <th>2</th>\n",
       "      <td>2.0</td>\n",
       "      <td>100.0</td>\n",
       "      <td>100</td>\n",
       "      <td>100.000000</td>\n",
       "      <td>2.000000</td>\n",
       "      <td>True</td>\n",
       "    </tr>\n",
       "    <tr>\n",
       "      <th>3</th>\n",
       "      <td>3.4</td>\n",
       "      <td>240.0</td>\n",
       "      <td>100</td>\n",
       "      <td>41.666667</td>\n",
       "      <td>1.416667</td>\n",
       "      <td>True</td>\n",
       "    </tr>\n",
       "    <tr>\n",
       "      <th>4</th>\n",
       "      <td>7.8</td>\n",
       "      <td>680.0</td>\n",
       "      <td>100</td>\n",
       "      <td>14.705882</td>\n",
       "      <td>1.147059</td>\n",
       "      <td>True</td>\n",
       "    </tr>\n",
       "  </tbody>\n",
       "</table>\n",
       "</div>"
      ],
      "text/plain": [
       "    odd  responsabilidade lucro  porcentagem  odd_equivalente green\n",
       "0   1.6              60.0   100   166.666667         2.666667  True\n",
       "1  38.0            3700.0   100     2.702703         1.027027  True\n",
       "2   2.0             100.0   100   100.000000         2.000000  True\n",
       "3   3.4             240.0   100    41.666667         1.416667  True\n",
       "4   7.8             680.0   100    14.705882         1.147059  True"
      ]
     },
     "execution_count": 162,
     "metadata": {},
     "output_type": "execute_result"
    }
   ],
   "source": [
    "df"
   ]
  }
 ],
 "metadata": {
  "kernelspec": {
   "display_name": "Python 3",
   "language": "python",
   "name": "python3"
  },
  "language_info": {
   "codemirror_mode": {
    "name": "ipython",
    "version": 3
   },
   "file_extension": ".py",
   "mimetype": "text/x-python",
   "name": "python",
   "nbconvert_exporter": "python",
   "pygments_lexer": "ipython3",
   "version": "3.10.11"
  }
 },
 "nbformat": 4,
 "nbformat_minor": 2
}
